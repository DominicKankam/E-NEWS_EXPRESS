{
 "cells": [
  {
   "cell_type": "markdown",
   "metadata": {},
   "source": [
    "# E-news Express Project"
   ]
  },
  {
   "cell_type": "markdown",
   "metadata": {},
   "source": [
    "## Background ##"
   ]
  },
  {
   "cell_type": "markdown",
   "metadata": {},
   "source": [
    "The design team of a company, E-news created a new landing page. Using A/B testing, we would like to investigate whether the new landing page is more effective to gather new subscribers, than the old landing page.  100 website users were randomly selected and divided equally into two groups. The old landing page was served to the first group (control group) and the new landing page was served to the second group (treatment group). Various data about the customers in both groups were collected in 'abtest.csv'. "
   ]
  },
  {
   "cell_type": "markdown",
   "metadata": {},
   "source": [
    "## Objective ##\n",
    "\n",
    "The objective of this project is to perform Exploratory and Statistical analysis to answer the following questions using the collected data considering a significance level of 0.05 for all tests:\n",
    "\n",
    "* Do the users spend more time on the new landing page than the old landing page?\n",
    "* Is the conversion rate (the proportion of users who visit the landing page and get converted) for the new page greater \n",
    "  than the conversion rate for the    old page?\n",
    "* Does the converted status depend on the preferred language?\n",
    "* Is the mean time spent on the new page same for the different language users?"
   ]
  },
  {
   "cell_type": "markdown",
   "metadata": {},
   "source": [
    "### 1.1 Importing the necessary libraries for EDA ###"
   ]
  },
  {
   "cell_type": "code",
   "execution_count": 1,
   "metadata": {},
   "outputs": [],
   "source": [
    "import warnings\n",
    "warnings.filterwarnings('ignore')"
   ]
  },
  {
   "cell_type": "code",
   "execution_count": 207,
   "metadata": {},
   "outputs": [],
   "source": [
    "# Import necessary libraries.\n",
    "import pandas as pd\n",
    "import numpy as np\n",
    "import matplotlib.pyplot as plt\n",
    "# To enable plotting graphs in Jupyter notebook\n",
    "%matplotlib inline\n",
    "import seaborn as sns"
   ]
  },
  {
   "cell_type": "markdown",
   "metadata": {},
   "source": [
    "### 1.2 Importing the Dataset ###"
   ]
  },
  {
   "cell_type": "code",
   "execution_count": 208,
   "metadata": {},
   "outputs": [],
   "source": [
    "#imports csv file\n",
    "data = pd.read_csv ('abtest.csv')"
   ]
  },
  {
   "cell_type": "code",
   "execution_count": 342,
   "metadata": {},
   "outputs": [],
   "source": [
    "# copying data to another variable to avoid any changes to original data\n",
    "abtest=data.copy()\n"
   ]
  },
  {
   "cell_type": "markdown",
   "metadata": {},
   "source": [
    "### 1.3 Read the first and last 5 rows of the dataset ###"
   ]
  },
  {
   "cell_type": "code",
   "execution_count": 6,
   "metadata": {},
   "outputs": [
    {
     "data": {
      "text/html": [
       "<div>\n",
       "<style scoped>\n",
       "    .dataframe tbody tr th:only-of-type {\n",
       "        vertical-align: middle;\n",
       "    }\n",
       "\n",
       "    .dataframe tbody tr th {\n",
       "        vertical-align: top;\n",
       "    }\n",
       "\n",
       "    .dataframe thead th {\n",
       "        text-align: right;\n",
       "    }\n",
       "</style>\n",
       "<table border=\"1\" class=\"dataframe\">\n",
       "  <thead>\n",
       "    <tr style=\"text-align: right;\">\n",
       "      <th></th>\n",
       "      <th>user_id</th>\n",
       "      <th>group</th>\n",
       "      <th>landing_page</th>\n",
       "      <th>time_spent_on_the_page</th>\n",
       "      <th>converted</th>\n",
       "      <th>language_preferred</th>\n",
       "    </tr>\n",
       "  </thead>\n",
       "  <tbody>\n",
       "    <tr>\n",
       "      <th>0</th>\n",
       "      <td>546592</td>\n",
       "      <td>control</td>\n",
       "      <td>old</td>\n",
       "      <td>3.48</td>\n",
       "      <td>yes</td>\n",
       "      <td>Spanish</td>\n",
       "    </tr>\n",
       "    <tr>\n",
       "      <th>1</th>\n",
       "      <td>546468</td>\n",
       "      <td>treatment</td>\n",
       "      <td>new</td>\n",
       "      <td>7.13</td>\n",
       "      <td>yes</td>\n",
       "      <td>English</td>\n",
       "    </tr>\n",
       "    <tr>\n",
       "      <th>2</th>\n",
       "      <td>546462</td>\n",
       "      <td>treatment</td>\n",
       "      <td>new</td>\n",
       "      <td>4.40</td>\n",
       "      <td>no</td>\n",
       "      <td>Spanish</td>\n",
       "    </tr>\n",
       "    <tr>\n",
       "      <th>3</th>\n",
       "      <td>546567</td>\n",
       "      <td>control</td>\n",
       "      <td>old</td>\n",
       "      <td>3.02</td>\n",
       "      <td>no</td>\n",
       "      <td>French</td>\n",
       "    </tr>\n",
       "    <tr>\n",
       "      <th>4</th>\n",
       "      <td>546459</td>\n",
       "      <td>treatment</td>\n",
       "      <td>new</td>\n",
       "      <td>4.75</td>\n",
       "      <td>yes</td>\n",
       "      <td>Spanish</td>\n",
       "    </tr>\n",
       "  </tbody>\n",
       "</table>\n",
       "</div>"
      ],
      "text/plain": [
       "   user_id      group landing_page  time_spent_on_the_page converted  \\\n",
       "0   546592    control          old                    3.48       yes   \n",
       "1   546468  treatment          new                    7.13       yes   \n",
       "2   546462  treatment          new                    4.40        no   \n",
       "3   546567    control          old                    3.02        no   \n",
       "4   546459  treatment          new                    4.75       yes   \n",
       "\n",
       "  language_preferred  \n",
       "0            Spanish  \n",
       "1            English  \n",
       "2            Spanish  \n",
       "3             French  \n",
       "4            Spanish  "
      ]
     },
     "execution_count": 6,
     "metadata": {},
     "output_type": "execute_result"
    }
   ],
   "source": [
    "abtest.head() #read the top 5 rows"
   ]
  },
  {
   "cell_type": "code",
   "execution_count": 7,
   "metadata": {},
   "outputs": [
    {
     "data": {
      "text/html": [
       "<div>\n",
       "<style scoped>\n",
       "    .dataframe tbody tr th:only-of-type {\n",
       "        vertical-align: middle;\n",
       "    }\n",
       "\n",
       "    .dataframe tbody tr th {\n",
       "        vertical-align: top;\n",
       "    }\n",
       "\n",
       "    .dataframe thead th {\n",
       "        text-align: right;\n",
       "    }\n",
       "</style>\n",
       "<table border=\"1\" class=\"dataframe\">\n",
       "  <thead>\n",
       "    <tr style=\"text-align: right;\">\n",
       "      <th></th>\n",
       "      <th>user_id</th>\n",
       "      <th>group</th>\n",
       "      <th>landing_page</th>\n",
       "      <th>time_spent_on_the_page</th>\n",
       "      <th>converted</th>\n",
       "      <th>language_preferred</th>\n",
       "    </tr>\n",
       "  </thead>\n",
       "  <tbody>\n",
       "    <tr>\n",
       "      <th>95</th>\n",
       "      <td>546446</td>\n",
       "      <td>treatment</td>\n",
       "      <td>new</td>\n",
       "      <td>5.15</td>\n",
       "      <td>no</td>\n",
       "      <td>Spanish</td>\n",
       "    </tr>\n",
       "    <tr>\n",
       "      <th>96</th>\n",
       "      <td>546544</td>\n",
       "      <td>control</td>\n",
       "      <td>old</td>\n",
       "      <td>6.52</td>\n",
       "      <td>yes</td>\n",
       "      <td>English</td>\n",
       "    </tr>\n",
       "    <tr>\n",
       "      <th>97</th>\n",
       "      <td>546472</td>\n",
       "      <td>treatment</td>\n",
       "      <td>new</td>\n",
       "      <td>7.07</td>\n",
       "      <td>yes</td>\n",
       "      <td>Spanish</td>\n",
       "    </tr>\n",
       "    <tr>\n",
       "      <th>98</th>\n",
       "      <td>546481</td>\n",
       "      <td>treatment</td>\n",
       "      <td>new</td>\n",
       "      <td>6.20</td>\n",
       "      <td>yes</td>\n",
       "      <td>Spanish</td>\n",
       "    </tr>\n",
       "    <tr>\n",
       "      <th>99</th>\n",
       "      <td>546483</td>\n",
       "      <td>treatment</td>\n",
       "      <td>new</td>\n",
       "      <td>5.86</td>\n",
       "      <td>yes</td>\n",
       "      <td>English</td>\n",
       "    </tr>\n",
       "  </tbody>\n",
       "</table>\n",
       "</div>"
      ],
      "text/plain": [
       "    user_id      group landing_page  time_spent_on_the_page converted  \\\n",
       "95   546446  treatment          new                    5.15        no   \n",
       "96   546544    control          old                    6.52       yes   \n",
       "97   546472  treatment          new                    7.07       yes   \n",
       "98   546481  treatment          new                    6.20       yes   \n",
       "99   546483  treatment          new                    5.86       yes   \n",
       "\n",
       "   language_preferred  \n",
       "95            Spanish  \n",
       "96            English  \n",
       "97            Spanish  \n",
       "98            Spanish  \n",
       "99            English  "
      ]
     },
     "execution_count": 7,
     "metadata": {},
     "output_type": "execute_result"
    }
   ],
   "source": [
    "abtest.tail() #read the last 5 rows"
   ]
  },
  {
   "cell_type": "markdown",
   "metadata": {},
   "source": [
    "**_Observation_**"
   ]
  },
  {
   "cell_type": "markdown",
   "metadata": {},
   "source": [
    "* User_id represents the user ID of the person visiting the website. \n",
    "* Group column shows whether the user belongs to the Control group or the Treatment group.\n",
    "* Landing Page column shows whether the landing page is old or new. \n",
    "* Time_spent_on_the_page represents the time in minutes the user spent on the landing page. \n",
    "* Converted represents whether the user gets converted or not. \n",
    "* Language_preferred represents the language chosen by the user to view the landing page. "
   ]
  },
  {
   "cell_type": "markdown",
   "metadata": {},
   "source": [
    "### 1.4 Checking the shape of the dataset ###"
   ]
  },
  {
   "cell_type": "code",
   "execution_count": 8,
   "metadata": {},
   "outputs": [
    {
     "data": {
      "text/plain": [
       "(100, 6)"
      ]
     },
     "execution_count": 8,
     "metadata": {},
     "output_type": "execute_result"
    }
   ],
   "source": [
    "abtest.shape"
   ]
  },
  {
   "cell_type": "markdown",
   "metadata": {},
   "source": [
    "**_Observation_**"
   ]
  },
  {
   "cell_type": "markdown",
   "metadata": {},
   "source": [
    "Dataset has 100 rows, 6 Columns.This means the rows capture all 100 sampled website visitors."
   ]
  },
  {
   "cell_type": "markdown",
   "metadata": {},
   "source": [
    "### 1.5 Checking the dataframe info ###"
   ]
  },
  {
   "cell_type": "code",
   "execution_count": 9,
   "metadata": {},
   "outputs": [
    {
     "name": "stdout",
     "output_type": "stream",
     "text": [
      "<class 'pandas.core.frame.DataFrame'>\n",
      "RangeIndex: 100 entries, 0 to 99\n",
      "Data columns (total 6 columns):\n",
      " #   Column                  Non-Null Count  Dtype  \n",
      "---  ------                  --------------  -----  \n",
      " 0   user_id                 100 non-null    int64  \n",
      " 1   group                   100 non-null    object \n",
      " 2   landing_page            100 non-null    object \n",
      " 3   time_spent_on_the_page  100 non-null    float64\n",
      " 4   converted               100 non-null    object \n",
      " 5   language_preferred      100 non-null    object \n",
      "dtypes: float64(1), int64(1), object(4)\n",
      "memory usage: 4.8+ KB\n"
     ]
    }
   ],
   "source": [
    "# Now, let us see if the variables have the right datatypes for our analysis\n",
    "# and also if there are any missing values.\n",
    "\n",
    "abtest.info() "
   ]
  },
  {
   "cell_type": "markdown",
   "metadata": {},
   "source": [
    "**_Observations_**\n",
    "\n",
    "* All columns have 100 observations, confirming that there are no missing values\n",
    "* Features like 'group', 'landing_page', 'converted' and 'language_preferred' ought to be in category datatype. As such, we will proceed to convert them from object to category datatype. "
   ]
  },
  {
   "cell_type": "markdown",
   "metadata": {},
   "source": [
    "### 1.5 Fixing the data types ###"
   ]
  },
  {
   "cell_type": "code",
   "execution_count": 14,
   "metadata": {},
   "outputs": [],
   "source": [
    "abtest ['group']=abtest['group'].astype('category')\n",
    "abtest ['landing_page']=abtest['landing_page'].astype('category')\n",
    "abtest ['converted']=abtest['converted'].astype('category')\n",
    "abtest ['language_preferred']=abtest['language_preferred'].astype('category')"
   ]
  },
  {
   "cell_type": "code",
   "execution_count": 15,
   "metadata": {},
   "outputs": [
    {
     "name": "stdout",
     "output_type": "stream",
     "text": [
      "<class 'pandas.core.frame.DataFrame'>\n",
      "RangeIndex: 100 entries, 0 to 99\n",
      "Data columns (total 6 columns):\n",
      " #   Column                  Non-Null Count  Dtype   \n",
      "---  ------                  --------------  -----   \n",
      " 0   user_id                 100 non-null    int64   \n",
      " 1   group                   100 non-null    category\n",
      " 2   landing_page            100 non-null    category\n",
      " 3   time_spent_on_the_page  100 non-null    float64 \n",
      " 4   converted               100 non-null    category\n",
      " 5   language_preferred      100 non-null    category\n",
      "dtypes: category(4), float64(1), int64(1)\n",
      "memory usage: 2.5 KB\n"
     ]
    }
   ],
   "source": [
    "abtest.info()"
   ]
  },
  {
   "cell_type": "markdown",
   "metadata": {},
   "source": [
    "* datatype of all columns have been fixed. "
   ]
  },
  {
   "cell_type": "markdown",
   "metadata": {},
   "source": [
    "### 1.6 Give a statistical summary for the dataset ###"
   ]
  },
  {
   "cell_type": "code",
   "execution_count": 104,
   "metadata": {},
   "outputs": [
    {
     "data": {
      "text/html": [
       "<div>\n",
       "<style scoped>\n",
       "    .dataframe tbody tr th:only-of-type {\n",
       "        vertical-align: middle;\n",
       "    }\n",
       "\n",
       "    .dataframe tbody tr th {\n",
       "        vertical-align: top;\n",
       "    }\n",
       "\n",
       "    .dataframe thead th {\n",
       "        text-align: right;\n",
       "    }\n",
       "</style>\n",
       "<table border=\"1\" class=\"dataframe\">\n",
       "  <thead>\n",
       "    <tr style=\"text-align: right;\">\n",
       "      <th></th>\n",
       "      <th>user_id</th>\n",
       "      <th>time_spent_on_the_page</th>\n",
       "    </tr>\n",
       "  </thead>\n",
       "  <tbody>\n",
       "    <tr>\n",
       "      <th>count</th>\n",
       "      <td>100.000000</td>\n",
       "      <td>100.000000</td>\n",
       "    </tr>\n",
       "    <tr>\n",
       "      <th>mean</th>\n",
       "      <td>546517.000000</td>\n",
       "      <td>5.377800</td>\n",
       "    </tr>\n",
       "    <tr>\n",
       "      <th>std</th>\n",
       "      <td>52.295779</td>\n",
       "      <td>2.378166</td>\n",
       "    </tr>\n",
       "    <tr>\n",
       "      <th>min</th>\n",
       "      <td>546443.000000</td>\n",
       "      <td>0.190000</td>\n",
       "    </tr>\n",
       "    <tr>\n",
       "      <th>25%</th>\n",
       "      <td>546467.750000</td>\n",
       "      <td>3.880000</td>\n",
       "    </tr>\n",
       "    <tr>\n",
       "      <th>50%</th>\n",
       "      <td>546492.500000</td>\n",
       "      <td>5.415000</td>\n",
       "    </tr>\n",
       "    <tr>\n",
       "      <th>75%</th>\n",
       "      <td>546567.250000</td>\n",
       "      <td>7.022500</td>\n",
       "    </tr>\n",
       "    <tr>\n",
       "      <th>max</th>\n",
       "      <td>546592.000000</td>\n",
       "      <td>10.710000</td>\n",
       "    </tr>\n",
       "  </tbody>\n",
       "</table>\n",
       "</div>"
      ],
      "text/plain": [
       "             user_id  time_spent_on_the_page\n",
       "count     100.000000              100.000000\n",
       "mean   546517.000000                5.377800\n",
       "std        52.295779                2.378166\n",
       "min    546443.000000                0.190000\n",
       "25%    546467.750000                3.880000\n",
       "50%    546492.500000                5.415000\n",
       "75%    546567.250000                7.022500\n",
       "max    546592.000000               10.710000"
      ]
     },
     "execution_count": 104,
     "metadata": {},
     "output_type": "execute_result"
    }
   ],
   "source": [
    "abtest.describe()"
   ]
  },
  {
   "cell_type": "markdown",
   "metadata": {},
   "source": [
    "### Summary of Control group only ###"
   ]
  },
  {
   "cell_type": "code",
   "execution_count": 344,
   "metadata": {},
   "outputs": [
    {
     "data": {
      "text/html": [
       "<div>\n",
       "<style scoped>\n",
       "    .dataframe tbody tr th:only-of-type {\n",
       "        vertical-align: middle;\n",
       "    }\n",
       "\n",
       "    .dataframe tbody tr th {\n",
       "        vertical-align: top;\n",
       "    }\n",
       "\n",
       "    .dataframe thead th {\n",
       "        text-align: right;\n",
       "    }\n",
       "</style>\n",
       "<table border=\"1\" class=\"dataframe\">\n",
       "  <thead>\n",
       "    <tr style=\"text-align: right;\">\n",
       "      <th></th>\n",
       "      <th>user_id</th>\n",
       "      <th>time_spent_on_the_page</th>\n",
       "    </tr>\n",
       "  </thead>\n",
       "  <tbody>\n",
       "    <tr>\n",
       "      <th>count</th>\n",
       "      <td>50.00000</td>\n",
       "      <td>50.000000</td>\n",
       "    </tr>\n",
       "    <tr>\n",
       "      <th>mean</th>\n",
       "      <td>546566.50000</td>\n",
       "      <td>4.532400</td>\n",
       "    </tr>\n",
       "    <tr>\n",
       "      <th>std</th>\n",
       "      <td>17.67767</td>\n",
       "      <td>2.581975</td>\n",
       "    </tr>\n",
       "    <tr>\n",
       "      <th>min</th>\n",
       "      <td>546493.00000</td>\n",
       "      <td>0.190000</td>\n",
       "    </tr>\n",
       "    <tr>\n",
       "      <th>25%</th>\n",
       "      <td>546555.25000</td>\n",
       "      <td>2.720000</td>\n",
       "    </tr>\n",
       "    <tr>\n",
       "      <th>50%</th>\n",
       "      <td>546567.50000</td>\n",
       "      <td>4.380000</td>\n",
       "    </tr>\n",
       "    <tr>\n",
       "      <th>75%</th>\n",
       "      <td>546579.75000</td>\n",
       "      <td>6.442500</td>\n",
       "    </tr>\n",
       "    <tr>\n",
       "      <th>max</th>\n",
       "      <td>546592.00000</td>\n",
       "      <td>10.300000</td>\n",
       "    </tr>\n",
       "  </tbody>\n",
       "</table>\n",
       "</div>"
      ],
      "text/plain": [
       "            user_id  time_spent_on_the_page\n",
       "count      50.00000               50.000000\n",
       "mean   546566.50000                4.532400\n",
       "std        17.67767                2.581975\n",
       "min    546493.00000                0.190000\n",
       "25%    546555.25000                2.720000\n",
       "50%    546567.50000                4.380000\n",
       "75%    546579.75000                6.442500\n",
       "max    546592.00000               10.300000"
      ]
     },
     "execution_count": 344,
     "metadata": {},
     "output_type": "execute_result"
    }
   ],
   "source": [
    "ctrl_df = abtest.loc[abtest['group'] == 'control']\n",
    "ctrl_df.describe()"
   ]
  },
  {
   "cell_type": "markdown",
   "metadata": {},
   "source": [
    "**_Observation_**\n",
    "\n",
    "* The mean time spent on the page by the Control group is approximately 4.53(mins)"
   ]
  },
  {
   "cell_type": "markdown",
   "metadata": {},
   "source": [
    "### Summary of Treatment group only ###"
   ]
  },
  {
   "cell_type": "code",
   "execution_count": 346,
   "metadata": {},
   "outputs": [
    {
     "data": {
      "text/html": [
       "<div>\n",
       "<style scoped>\n",
       "    .dataframe tbody tr th:only-of-type {\n",
       "        vertical-align: middle;\n",
       "    }\n",
       "\n",
       "    .dataframe tbody tr th {\n",
       "        vertical-align: top;\n",
       "    }\n",
       "\n",
       "    .dataframe thead th {\n",
       "        text-align: right;\n",
       "    }\n",
       "</style>\n",
       "<table border=\"1\" class=\"dataframe\">\n",
       "  <thead>\n",
       "    <tr style=\"text-align: right;\">\n",
       "      <th></th>\n",
       "      <th>user_id</th>\n",
       "      <th>time_spent_on_the_page</th>\n",
       "    </tr>\n",
       "  </thead>\n",
       "  <tbody>\n",
       "    <tr>\n",
       "      <th>count</th>\n",
       "      <td>50.00000</td>\n",
       "      <td>50.000000</td>\n",
       "    </tr>\n",
       "    <tr>\n",
       "      <th>mean</th>\n",
       "      <td>546467.50000</td>\n",
       "      <td>6.223200</td>\n",
       "    </tr>\n",
       "    <tr>\n",
       "      <th>std</th>\n",
       "      <td>14.57738</td>\n",
       "      <td>1.817031</td>\n",
       "    </tr>\n",
       "    <tr>\n",
       "      <th>min</th>\n",
       "      <td>546443.00000</td>\n",
       "      <td>1.650000</td>\n",
       "    </tr>\n",
       "    <tr>\n",
       "      <th>25%</th>\n",
       "      <td>546455.25000</td>\n",
       "      <td>5.175000</td>\n",
       "    </tr>\n",
       "    <tr>\n",
       "      <th>50%</th>\n",
       "      <td>546467.50000</td>\n",
       "      <td>6.105000</td>\n",
       "    </tr>\n",
       "    <tr>\n",
       "      <th>75%</th>\n",
       "      <td>546479.75000</td>\n",
       "      <td>7.160000</td>\n",
       "    </tr>\n",
       "    <tr>\n",
       "      <th>max</th>\n",
       "      <td>546492.00000</td>\n",
       "      <td>10.710000</td>\n",
       "    </tr>\n",
       "  </tbody>\n",
       "</table>\n",
       "</div>"
      ],
      "text/plain": [
       "            user_id  time_spent_on_the_page\n",
       "count      50.00000               50.000000\n",
       "mean   546467.50000                6.223200\n",
       "std        14.57738                1.817031\n",
       "min    546443.00000                1.650000\n",
       "25%    546455.25000                5.175000\n",
       "50%    546467.50000                6.105000\n",
       "75%    546479.75000                7.160000\n",
       "max    546492.00000               10.710000"
      ]
     },
     "execution_count": 346,
     "metadata": {},
     "output_type": "execute_result"
    }
   ],
   "source": [
    "trtm_df = abtest.loc[abtest['group'] == 'treatment']\n",
    "trtm_df.describe()"
   ]
  },
  {
   "cell_type": "markdown",
   "metadata": {},
   "source": [
    "**_Observation_**\n",
    "\n",
    "* The mean time spent on the page by the treatment group is approximately 6.22(mins)"
   ]
  },
  {
   "cell_type": "markdown",
   "metadata": {},
   "source": [
    "&nbsp;"
   ]
  },
  {
   "cell_type": "markdown",
   "metadata": {},
   "source": [
    "### EXPLORATORY DATA ANALYSIS ###"
   ]
  },
  {
   "cell_type": "markdown",
   "metadata": {},
   "source": [
    "### Univariate Analysis ###"
   ]
  },
  {
   "cell_type": "markdown",
   "metadata": {},
   "source": [
    "### Observation on Group ###"
   ]
  },
  {
   "cell_type": "code",
   "execution_count": 25,
   "metadata": {},
   "outputs": [],
   "source": [
    "# Function to create barplots that indicate percentage for each category.\n",
    "def bar_perc(plot, feature):\n",
    "    '''\n",
    "    plot\n",
    "    feature: 1-d categorical feature array\n",
    "    '''\n",
    "    total = len(feature) # length of the column\n",
    "    for p in ax.patches:\n",
    "        percentage = '{:.1f}%'.format(100 * p.get_height()/total) # percentage of each class of the category\n",
    "        x = p.get_x() + p.get_width() / 2 - 0.05 # width of the plot\n",
    "        y = p.get_y() + p.get_height()           # hieght of the plot\n",
    "        ax.annotate(percentage, (x, y), size = 12) # annotate the percantage"
   ]
  },
  {
   "cell_type": "code",
   "execution_count": 27,
   "metadata": {},
   "outputs": [
    {
     "data": {
      "image/png": "[encoded data removed]",
      "text/plain": [
       "<Figure size 720x504 with 1 Axes>"
      ]
     },
     "metadata": {
      "needs_background": "light"
     },
     "output_type": "display_data"
    }
   ],
   "source": [
    "plt.figure(figsize=(10,7))\n",
    "ax = sns.countplot(abtest['group'])\n",
    "plt.xlabel('group')\n",
    "plt.ylabel('Count')\n",
    "bar_perc(ax,df['group'])"
   ]
  },
  {
   "cell_type": "markdown",
   "metadata": {},
   "source": [
    "**_Observation_**\n",
    "\n",
    "* Histogram confirms an even representation of both groups in the experiment at 50% each."
   ]
  },
  {
   "cell_type": "markdown",
   "metadata": {},
   "source": [
    "&nbsp;"
   ]
  },
  {
   "cell_type": "markdown",
   "metadata": {},
   "source": [
    "### Observation on Landing Page ###"
   ]
  },
  {
   "cell_type": "code",
   "execution_count": 29,
   "metadata": {},
   "outputs": [
    {
     "data": {
      "image/png": "[encoded data removed]",
      "text/plain": [
       "<Figure size 720x504 with 1 Axes>"
      ]
     },
     "metadata": {
      "needs_background": "light"
     },
     "output_type": "display_data"
    }
   ],
   "source": [
    "plt.figure(figsize=(10,7))\n",
    "ax = sns.countplot(abtest['landing_page'])\n",
    "plt.xlabel('landing_page')\n",
    "plt.ylabel('Count')\n",
    "bar_perc(ax,abtest['landing_page'])"
   ]
  },
  {
   "cell_type": "markdown",
   "metadata": {},
   "source": [
    "**_Observation_**\n",
    "\n",
    "* Histogram confirms an even assignment (prior to experiment) of new and old landing pages to the Control and Treatment groups"
   ]
  },
  {
   "cell_type": "markdown",
   "metadata": {},
   "source": [
    "### Observation on Converted ###"
   ]
  },
  {
   "cell_type": "code",
   "execution_count": 33,
   "metadata": {},
   "outputs": [
    {
     "data": {
      "image/png": "[encoded data removed]",
      "text/plain": [
       "<Figure size 720x504 with 1 Axes>"
      ]
     },
     "metadata": {
      "needs_background": "light"
     },
     "output_type": "display_data"
    }
   ],
   "source": [
    "plt.figure(figsize=(10,7))\n",
    "ax = sns.countplot(abtest['converted'])\n",
    "plt.xlabel('converted')\n",
    "plt.ylabel('Count')\n",
    "bar_perc(ax,abtest['converted'])"
   ]
  },
  {
   "cell_type": "markdown",
   "metadata": {},
   "source": [
    "**_Observation_**\n",
    "\n",
    "* There were more conversions than non conversions across the board. "
   ]
  },
  {
   "cell_type": "markdown",
   "metadata": {},
   "source": [
    "### Observation on Language Preferred ###"
   ]
  },
  {
   "cell_type": "code",
   "execution_count": 35,
   "metadata": {},
   "outputs": [
    {
     "data": {
      "image/png": "[encoded data removed]",
      "text/plain": [
       "<Figure size 720x504 with 1 Axes>"
      ]
     },
     "metadata": {
      "needs_background": "light"
     },
     "output_type": "display_data"
    }
   ],
   "source": [
    "plt.figure(figsize=(10,7))\n",
    "ax = sns.countplot(abtest['language_preferred'])\n",
    "plt.xlabel('language_preferred')\n",
    "plt.ylabel('Count')\n",
    "bar_perc(ax,abtest['language_preferred'])"
   ]
  },
  {
   "cell_type": "markdown",
   "metadata": {},
   "source": [
    "**_Observation_**\n",
    "\n",
    "* French and Spanish were the most preferred languages, slightly over English"
   ]
  },
  {
   "cell_type": "markdown",
   "metadata": {},
   "source": [
    "### Observation on time spent on the page ###"
   ]
  },
  {
   "cell_type": "code",
   "execution_count": 43,
   "metadata": {},
   "outputs": [
    {
     "data": {
      "image/png": "[encoded data removed]",
      "text/plain": [
       "<Figure size 720x504 with 1 Axes>"
      ]
     },
     "metadata": {
      "needs_background": "light"
     },
     "output_type": "display_data"
    }
   ],
   "source": [
    "plt.figure(figsize=(10,7))\n",
    "sns.distplot (abtest['time_spent_on_the_page'], rug = True)\n",
    "plt.show()"
   ]
  },
  {
   "cell_type": "markdown",
   "metadata": {},
   "source": [
    "**_Observation_**\n",
    "\n",
    "* the histogram of \"time spent on the page\" shows an approximate continuous uniform distribution, with a mean of 5.37 (mins) and a standard deviation of 2.37(mins)"
   ]
  },
  {
   "cell_type": "markdown",
   "metadata": {},
   "source": [
    "### Bivariate Analysis ###"
   ]
  },
  {
   "cell_type": "markdown",
   "metadata": {},
   "source": [
    "### Observing mean time spent on the page by each group"
   ]
  },
  {
   "cell_type": "code",
   "execution_count": 350,
   "metadata": {},
   "outputs": [
    {
     "data": {
      "text/html": [
       "<div>\n",
       "<style scoped>\n",
       "    .dataframe tbody tr th:only-of-type {\n",
       "        vertical-align: middle;\n",
       "    }\n",
       "\n",
       "    .dataframe tbody tr th {\n",
       "        vertical-align: top;\n",
       "    }\n",
       "\n",
       "    .dataframe thead th {\n",
       "        text-align: right;\n",
       "    }\n",
       "</style>\n",
       "<table border=\"1\" class=\"dataframe\">\n",
       "  <thead>\n",
       "    <tr style=\"text-align: right;\">\n",
       "      <th></th>\n",
       "      <th>count</th>\n",
       "      <th>median</th>\n",
       "      <th>mean</th>\n",
       "      <th>std</th>\n",
       "      <th>max</th>\n",
       "    </tr>\n",
       "    <tr>\n",
       "      <th>group</th>\n",
       "      <th></th>\n",
       "      <th></th>\n",
       "      <th></th>\n",
       "      <th></th>\n",
       "      <th></th>\n",
       "    </tr>\n",
       "  </thead>\n",
       "  <tbody>\n",
       "    <tr>\n",
       "      <th>control</th>\n",
       "      <td>50</td>\n",
       "      <td>4.380</td>\n",
       "      <td>4.5324</td>\n",
       "      <td>2.581975</td>\n",
       "      <td>10.30</td>\n",
       "    </tr>\n",
       "    <tr>\n",
       "      <th>treatment</th>\n",
       "      <td>50</td>\n",
       "      <td>6.105</td>\n",
       "      <td>6.2232</td>\n",
       "      <td>1.817031</td>\n",
       "      <td>10.71</td>\n",
       "    </tr>\n",
       "  </tbody>\n",
       "</table>\n",
       "</div>"
      ],
      "text/plain": [
       "           count  median    mean       std    max\n",
       "group                                            \n",
       "control       50   4.380  4.5324  2.581975  10.30\n",
       "treatment     50   6.105  6.2232  1.817031  10.71"
      ]
     },
     "execution_count": 350,
     "metadata": {},
     "output_type": "execute_result"
    }
   ],
   "source": [
    "abtest.groupby(\"group\").time_spent_on_the_page.agg([\"count\", \"median\", \"mean\", \"std\", \"max\"])"
   ]
  },
  {
   "cell_type": "markdown",
   "metadata": {},
   "source": [
    "**_Observation_**\n",
    "\n",
    "* Mean time spent by Treatment group is higher than the meant time by Control group. This information will be used for statistical analysis later on."
   ]
  },
  {
   "cell_type": "code",
   "execution_count": 355,
   "metadata": {},
   "outputs": [
    {
     "data": {
      "text/plain": [
       "<AxesSubplot:xlabel='group', ylabel='time_spent_on_the_page'>"
      ]
     },
     "execution_count": 355,
     "metadata": {},
     "output_type": "execute_result"
    },
    {
     "data": {
      "image/png": "[encoded data removed]",
      "text/plain": [
       "<Figure size 720x360 with 1 Axes>"
      ]
     },
     "metadata": {
      "needs_background": "light"
     },
     "output_type": "display_data"
    }
   ],
   "source": [
    "# Let us visualize the mean time against the groups.\n",
    "plt.figure (figsize= (10,5))\n",
    "sns.boxplot (x = 'group', y= 'time_spent_on_the_page', data = abtest, hue = 'converted')"
   ]
  },
  {
   "cell_type": "markdown",
   "metadata": {},
   "source": [
    "**_Observation_**\n",
    "\n",
    "* It is observed here again, that the mean time spent by the treatment group is higher than the mean time spent by control group.\n",
    "* The mean time spent by those converted in either group is more than the mean time spent by those that did not convert. "
   ]
  },
  {
   "cell_type": "markdown",
   "metadata": {},
   "source": [
    "### Analyze which landing page had most conversions ###"
   ]
  },
  {
   "cell_type": "code",
   "execution_count": 352,
   "metadata": {},
   "outputs": [
    {
     "name": "stdout",
     "output_type": "stream",
     "text": [
      "converted     no  yes\n",
      "landing_page         \n",
      "new           18   32\n",
      "old           27   23\n"
     ]
    },
    {
     "data": {
      "text/plain": [
       "Text(0.5, 1.0, 'SUBSCRIPTION BY LANDING PAGE')"
      ]
     },
     "execution_count": 352,
     "metadata": {},
     "output_type": "execute_result"
    },
    {
     "data": {
      "text/plain": [
       "<Figure size 720x504 with 0 Axes>"
      ]
     },
     "metadata": {},
     "output_type": "display_data"
    },
    {
     "data": {
      "image/png": "[encoded data removed]",
      "text/plain": [
       "<Figure size 432x288 with 1 Axes>"
      ]
     },
     "metadata": {
      "needs_background": "light"
     },
     "output_type": "display_data"
    }
   ],
   "source": [
    "# do a crosstab\n",
    "plt.figure (figsize = (10,7))\n",
    "lc =pd.crosstab(abtest['landing_page'],abtest['converted'] )\n",
    "print(lc)\n",
    "lc.plot(kind='bar')\n",
    "plt.title(\"SUBSCRIPTION BY LANDING PAGE\")\n"
   ]
  },
  {
   "cell_type": "markdown",
   "metadata": {},
   "source": [
    "**_Observation_**\n",
    "\n",
    "* The new landing page reaped  more conversions/subscriptions than the old one."
   ]
  },
  {
   "cell_type": "markdown",
   "metadata": {},
   "source": [
    "### Analyze Group and language Preferred ###"
   ]
  },
  {
   "cell_type": "code",
   "execution_count": 356,
   "metadata": {},
   "outputs": [
    {
     "name": "stdout",
     "output_type": "stream",
     "text": [
      "language_preferred  English  French  Spanish\n",
      "group                                       \n",
      "control                  16      17       17\n",
      "treatment                16      17       17\n"
     ]
    },
    {
     "data": {
      "text/plain": [
       "Text(0.5, 1.0, 'PREFERRED LANGUAGE BY GROUP')"
      ]
     },
     "execution_count": 356,
     "metadata": {},
     "output_type": "execute_result"
    },
    {
     "data": {
      "text/plain": [
       "<Figure size 720x720 with 0 Axes>"
      ]
     },
     "metadata": {},
     "output_type": "display_data"
    },
    {
     "data": {
      "image/png": "[encoded data removed]",
      "text/plain": [
       "<Figure size 432x288 with 1 Axes>"
      ]
     },
     "metadata": {
      "needs_background": "light"
     },
     "output_type": "display_data"
    }
   ],
   "source": [
    "plt.figure (figsize = (10,10))\n",
    "gl =pd.crosstab(abtest['group'],abtest['language_preferred'] )\n",
    "print (gl)\n",
    "gl.plot(kind='bar')\n",
    "plt.title(\"PREFERRED LANGUAGE BY GROUP\")"
   ]
  },
  {
   "cell_type": "markdown",
   "metadata": {},
   "source": [
    "**_Observation_**\n",
    "\n",
    "* languages preferred by both Control and Treatment group is even, with French and Spanish at a tie at 17 on each side, and english at 16 on each side.\n"
   ]
  },
  {
   "cell_type": "markdown",
   "metadata": {},
   "source": [
    "### Analyze relationship between landing page and time spent ###"
   ]
  },
  {
   "cell_type": "code",
   "execution_count": 289,
   "metadata": {},
   "outputs": [
    {
     "data": {
      "image/png": "[encoded data removed]",
      "text/plain": [
       "<Figure size 720x360 with 1 Axes>"
      ]
     },
     "metadata": {
      "needs_background": "light"
     },
     "output_type": "display_data"
    }
   ],
   "source": [
    "#plot barplot\n",
    "plt.figure(figsize=(10,5))  # setting the figure size\n",
    "ax = sns.barplot(x='landing_page', y='time_spent_on_the_page', data=abtest, ci=False)  # barplot"
   ]
  },
  {
   "cell_type": "markdown",
   "metadata": {},
   "source": [
    "**_Observation_**\n",
    "\n",
    "* Users spent more time on the new landing page than the old landing page\n",
    "* It will be interesting to know the relationship between time spent and the conversion/subscription"
   ]
  },
  {
   "cell_type": "markdown",
   "metadata": {},
   "source": [
    "### Analyze how time spent on the landing page relates to conversion ###"
   ]
  },
  {
   "cell_type": "code",
   "execution_count": 69,
   "metadata": {},
   "outputs": [
    {
     "data": {
      "image/png": "[encoded data removed]",
      "text/plain": [
       "<Figure size 432x288 with 1 Axes>"
      ]
     },
     "metadata": {
      "needs_background": "light"
     },
     "output_type": "display_data"
    }
   ],
   "source": [
    "sns.catplot(x ='converted', y = 'time_spent_on_the_page',data = abtest, height=4, aspect=1.5, kind ='box');\n"
   ]
  },
  {
   "cell_type": "markdown",
   "metadata": {},
   "source": [
    "**_Observation_**\n",
    "\n",
    "* The mean and median time spent by visitors that converted or subscribed is higher than those that did not subscribe. \n",
    "* There is the possibliblity that visitors are more likely to subscribe if they spend more time on the landing page. This will be analysed further. "
   ]
  },
  {
   "cell_type": "markdown",
   "metadata": {},
   "source": [
    "### Observe the relationship between conversion and preferred language ###"
   ]
  },
  {
   "cell_type": "code",
   "execution_count": 152,
   "metadata": {},
   "outputs": [
    {
     "name": "stdout",
     "output_type": "stream",
     "text": [
      "language_preferred  English  French  Spanish\n",
      "converted                                   \n",
      "0                        12      17       16\n",
      "1                        20      17       18\n"
     ]
    },
    {
     "data": {
      "text/plain": [
       "Text(0.5, 1.0, 'CONVERSION BY PREFERRED LANGUAGE')"
      ]
     },
     "execution_count": 152,
     "metadata": {},
     "output_type": "execute_result"
    },
    {
     "data": {
      "text/plain": [
       "<Figure size 720x504 with 0 Axes>"
      ]
     },
     "metadata": {},
     "output_type": "display_data"
    },
    {
     "data": {
      "image/png": "[encoded data removed]",
      "text/plain": [
       "<Figure size 432x288 with 1 Axes>"
      ]
     },
     "metadata": {
      "needs_background": "light"
     },
     "output_type": "display_data"
    }
   ],
   "source": [
    "#using crosstab\n",
    "plt.figure (figsize = (10,7))\n",
    "cl =pd.crosstab(abtest['converted'],abtest['language_preferred'] )\n",
    "print (cl)\n",
    "cl.plot(kind='bar')\n",
    "plt.title(\"CONVERSION BY PREFERRED LANGUAGE\")"
   ]
  },
  {
   "cell_type": "markdown",
   "metadata": {},
   "source": [
    "**_Observation_**\n",
    "\n",
    "* For the converting visitors, the most preferred language was English. \n",
    "* For the non converting visitors, the most preferred language was French. "
   ]
  },
  {
   "cell_type": "markdown",
   "metadata": {},
   "source": [
    "&nbsp;"
   ]
  },
  {
   "cell_type": "markdown",
   "metadata": {},
   "source": [
    "### STATISTICAL AND VISUAL ANALYSIS ###"
   ]
  },
  {
   "cell_type": "code",
   "execution_count": 154,
   "metadata": {},
   "outputs": [],
   "source": [
    "#import necessary library\n",
    "from scipy import stats\n"
   ]
  },
  {
   "cell_type": "code",
   "execution_count": 285,
   "metadata": {},
   "outputs": [
    {
     "data": {
      "text/html": [
       "<div>\n",
       "<style scoped>\n",
       "    .dataframe tbody tr th:only-of-type {\n",
       "        vertical-align: middle;\n",
       "    }\n",
       "\n",
       "    .dataframe tbody tr th {\n",
       "        vertical-align: top;\n",
       "    }\n",
       "\n",
       "    .dataframe thead th {\n",
       "        text-align: right;\n",
       "    }\n",
       "</style>\n",
       "<table border=\"1\" class=\"dataframe\">\n",
       "  <thead>\n",
       "    <tr style=\"text-align: right;\">\n",
       "      <th></th>\n",
       "      <th>user_id</th>\n",
       "      <th>group</th>\n",
       "      <th>landing_page</th>\n",
       "      <th>time_spent_on_the_page</th>\n",
       "      <th>converted</th>\n",
       "      <th>language_preferred</th>\n",
       "    </tr>\n",
       "  </thead>\n",
       "  <tbody>\n",
       "    <tr>\n",
       "      <th>0</th>\n",
       "      <td>546592</td>\n",
       "      <td>control</td>\n",
       "      <td>old</td>\n",
       "      <td>3.48</td>\n",
       "      <td>1</td>\n",
       "      <td>Spanish</td>\n",
       "    </tr>\n",
       "    <tr>\n",
       "      <th>1</th>\n",
       "      <td>546468</td>\n",
       "      <td>treatment</td>\n",
       "      <td>new</td>\n",
       "      <td>7.13</td>\n",
       "      <td>1</td>\n",
       "      <td>English</td>\n",
       "    </tr>\n",
       "    <tr>\n",
       "      <th>2</th>\n",
       "      <td>546462</td>\n",
       "      <td>treatment</td>\n",
       "      <td>new</td>\n",
       "      <td>4.40</td>\n",
       "      <td>0</td>\n",
       "      <td>Spanish</td>\n",
       "    </tr>\n",
       "    <tr>\n",
       "      <th>3</th>\n",
       "      <td>546567</td>\n",
       "      <td>control</td>\n",
       "      <td>old</td>\n",
       "      <td>3.02</td>\n",
       "      <td>0</td>\n",
       "      <td>French</td>\n",
       "    </tr>\n",
       "    <tr>\n",
       "      <th>4</th>\n",
       "      <td>546459</td>\n",
       "      <td>treatment</td>\n",
       "      <td>new</td>\n",
       "      <td>4.75</td>\n",
       "      <td>1</td>\n",
       "      <td>Spanish</td>\n",
       "    </tr>\n",
       "    <tr>\n",
       "      <th>...</th>\n",
       "      <td>...</td>\n",
       "      <td>...</td>\n",
       "      <td>...</td>\n",
       "      <td>...</td>\n",
       "      <td>...</td>\n",
       "      <td>...</td>\n",
       "    </tr>\n",
       "    <tr>\n",
       "      <th>95</th>\n",
       "      <td>546446</td>\n",
       "      <td>treatment</td>\n",
       "      <td>new</td>\n",
       "      <td>5.15</td>\n",
       "      <td>0</td>\n",
       "      <td>Spanish</td>\n",
       "    </tr>\n",
       "    <tr>\n",
       "      <th>96</th>\n",
       "      <td>546544</td>\n",
       "      <td>control</td>\n",
       "      <td>old</td>\n",
       "      <td>6.52</td>\n",
       "      <td>1</td>\n",
       "      <td>English</td>\n",
       "    </tr>\n",
       "    <tr>\n",
       "      <th>97</th>\n",
       "      <td>546472</td>\n",
       "      <td>treatment</td>\n",
       "      <td>new</td>\n",
       "      <td>7.07</td>\n",
       "      <td>1</td>\n",
       "      <td>Spanish</td>\n",
       "    </tr>\n",
       "    <tr>\n",
       "      <th>98</th>\n",
       "      <td>546481</td>\n",
       "      <td>treatment</td>\n",
       "      <td>new</td>\n",
       "      <td>6.20</td>\n",
       "      <td>1</td>\n",
       "      <td>Spanish</td>\n",
       "    </tr>\n",
       "    <tr>\n",
       "      <th>99</th>\n",
       "      <td>546483</td>\n",
       "      <td>treatment</td>\n",
       "      <td>new</td>\n",
       "      <td>5.86</td>\n",
       "      <td>1</td>\n",
       "      <td>English</td>\n",
       "    </tr>\n",
       "  </tbody>\n",
       "</table>\n",
       "<p>100 rows × 6 columns</p>\n",
       "</div>"
      ],
      "text/plain": [
       "    user_id      group landing_page  time_spent_on_the_page  converted  \\\n",
       "0    546592    control          old                    3.48          1   \n",
       "1    546468  treatment          new                    7.13          1   \n",
       "2    546462  treatment          new                    4.40          0   \n",
       "3    546567    control          old                    3.02          0   \n",
       "4    546459  treatment          new                    4.75          1   \n",
       "..      ...        ...          ...                     ...        ...   \n",
       "95   546446  treatment          new                    5.15          0   \n",
       "96   546544    control          old                    6.52          1   \n",
       "97   546472  treatment          new                    7.07          1   \n",
       "98   546481  treatment          new                    6.20          1   \n",
       "99   546483  treatment          new                    5.86          1   \n",
       "\n",
       "   language_preferred  \n",
       "0             Spanish  \n",
       "1             English  \n",
       "2             Spanish  \n",
       "3              French  \n",
       "4             Spanish  \n",
       "..                ...  \n",
       "95            Spanish  \n",
       "96            English  \n",
       "97            Spanish  \n",
       "98            Spanish  \n",
       "99            English  \n",
       "\n",
       "[100 rows x 6 columns]"
      ]
     },
     "execution_count": 285,
     "metadata": {},
     "output_type": "execute_result"
    }
   ],
   "source": [
    "#let us replace yes and no in 'converted' to aid our statistical analysis\n",
    "abtest.converted.replace(('yes', 'no'), (1, 0), inplace=True)\n",
    "abtest"
   ]
  },
  {
   "cell_type": "markdown",
   "metadata": {},
   "source": [
    "### Finding the conversion rate of both groups ###"
   ]
  },
  {
   "cell_type": "code",
   "execution_count": 286,
   "metadata": {},
   "outputs": [
    {
     "data": {
      "text/html": [
       "<div>\n",
       "<style scoped>\n",
       "    .dataframe tbody tr th:only-of-type {\n",
       "        vertical-align: middle;\n",
       "    }\n",
       "\n",
       "    .dataframe tbody tr th {\n",
       "        vertical-align: top;\n",
       "    }\n",
       "\n",
       "    .dataframe thead th {\n",
       "        text-align: right;\n",
       "    }\n",
       "</style>\n",
       "<table border=\"1\" class=\"dataframe\">\n",
       "  <thead>\n",
       "    <tr style=\"text-align: right;\">\n",
       "      <th></th>\n",
       "      <th>converted</th>\n",
       "      <th>total</th>\n",
       "      <th>rate</th>\n",
       "    </tr>\n",
       "    <tr>\n",
       "      <th>group</th>\n",
       "      <th></th>\n",
       "      <th></th>\n",
       "      <th></th>\n",
       "    </tr>\n",
       "  </thead>\n",
       "  <tbody>\n",
       "    <tr>\n",
       "      <th>control</th>\n",
       "      <td>23</td>\n",
       "      <td>50</td>\n",
       "      <td>0.46</td>\n",
       "    </tr>\n",
       "    <tr>\n",
       "      <th>treatment</th>\n",
       "      <td>32</td>\n",
       "      <td>50</td>\n",
       "      <td>0.64</td>\n",
       "    </tr>\n",
       "  </tbody>\n",
       "</table>\n",
       "</div>"
      ],
      "text/plain": [
       "           converted  total  rate\n",
       "group                            \n",
       "control           23     50  0.46\n",
       "treatment         32     50  0.64"
      ]
     },
     "execution_count": 286,
     "metadata": {},
     "output_type": "execute_result"
    }
   ],
   "source": [
    "#finding the conversion rate\n",
    "abtestsum = abtest.pivot_table(values='converted', index='group', aggfunc=np.sum)\n",
    "# add additional columns to the pivot table\n",
    "abtestsum['total'] = abtest.pivot_table(values='converted', index='group', aggfunc=lambda x: len(x))\n",
    "abtestsum['rate'] = abtest.pivot_table(values='converted', index='group')\n",
    "abtestsum"
   ]
  },
  {
   "cell_type": "markdown",
   "metadata": {},
   "source": [
    "**_Observation_**\n",
    "\n",
    "* The treatment group or the new landing page showed a higher conversion rate than the control group or old page"
   ]
  },
  {
   "cell_type": "markdown",
   "metadata": {},
   "source": [
    "## Do the users spend more time on the new landing page than the old landing page? ###"
   ]
  },
  {
   "cell_type": "markdown",
   "metadata": {},
   "source": [
    "The metric of interest here is \"time_spent_on_the_landing_page\". Use the p-value approach and a level of significance of 0.05. \n",
    "\n",
    "Now, let us conduct a two independent sample ttest on both groups:\n"
   ]
  },
  {
   "cell_type": "markdown",
   "metadata": {},
   "source": [
    "### Justification for using 2 sample independent ttest ###"
   ]
  },
  {
   "cell_type": "markdown",
   "metadata": {},
   "source": [
    "* Continuous data - Yes, the landing page time is measured on a continuous scale.\n",
    "* Normally distributed populations - Yes\n",
    "* Independent populations - As we are taking random samples for two different  users\n",
    "* Equal population standard deviations - the population standard deviations may be assumed to be equal.\n",
    "* Random sampling from the population - Yes, we are informed that the collected sample is a simple random sample."
   ]
  },
  {
   "cell_type": "markdown",
   "metadata": {},
   "source": [
    "### Formulate the null and alternative hypothesis ###"
   ]
  },
  {
   "cell_type": "markdown",
   "metadata": {},
   "source": [
    "\n",
    "$H_0$: $\\mu_{old} = \\mu_{new}$, Time spent on the old landing page is equal to time spent on the new landing page\n",
    "\n",
    "$H_a$: $\\mu_{new} > \\mu_{old}$, Visitors spent more time on the new landing page than the old landing page. "
   ]
  },
  {
   "cell_type": "code",
   "execution_count": 212,
   "metadata": {},
   "outputs": [],
   "source": [
    "#selecting dataframe of the control group only\n",
    "ctrl_time = abtest.loc[abtest['group'] == 'control']\n"
   ]
  },
  {
   "cell_type": "code",
   "execution_count": 217,
   "metadata": {},
   "outputs": [],
   "source": [
    "#selecting dataframe of the treatment group only\n",
    "trmt_time = abtest.loc[abtest['group']== 'treatment']"
   ]
  },
  {
   "cell_type": "code",
   "execution_count": 315,
   "metadata": {},
   "outputs": [
    {
     "name": "stdout",
     "output_type": "stream",
     "text": [
      "tstats =  3.7867702694199856 , p_value =  0.0001316123528095005\n",
      "Reject the null hypothesis - we can conclude that visitors spent more time on the new landing page than the old landing page.\n"
     ]
    }
   ],
   "source": [
    "significance = 0.05\n",
    "\n",
    "#conducting independent ttest\n",
    "t, p_value = stats.ttest_ind(trmt_time['time_spent_on_the_page'],ctrl_time['time_spent_on_the_page'],  equal_var = True, alternative = 'greater')\n",
    "print(\"tstats = \",t, \", p_value = \", p_value)\n",
    "if p_value > significance:\n",
    "    print (\"We do have have enough statistitcal evidence to reject the null hypothesis\")\n",
    "else:\n",
    "    print (\"Reject the null hypothesis - we can conclude that visitors spent more time on the new landing page than the old landing page.\")\n"
   ]
  },
  {
   "cell_type": "markdown",
   "metadata": {},
   "source": [
    "### Since p-value(0.0001) < 0.05 (alpha), we reject the null hypothesis and conclude that visitors spent more time on the new landing page than the old landing page. ###"
   ]
  },
  {
   "cell_type": "markdown",
   "metadata": {},
   "source": [
    "&nbsp;"
   ]
  },
  {
   "cell_type": "markdown",
   "metadata": {},
   "source": [
    "### Confirming the above via visualization ###"
   ]
  },
  {
   "cell_type": "code",
   "execution_count": 224,
   "metadata": {},
   "outputs": [
    {
     "data": {
      "text/plain": [
       "<Figure size 720x720 with 0 Axes>"
      ]
     },
     "metadata": {},
     "output_type": "display_data"
    },
    {
     "data": {
      "image/png": "[encoded data removed]",
      "text/plain": [
       "<Figure size 720x360 with 1 Axes>"
      ]
     },
     "metadata": {
      "needs_background": "light"
     },
     "output_type": "display_data"
    }
   ],
   "source": [
    "#plot barplot\n",
    "plt.figure(figsize=(10,10))  # setting the figure size\n",
    "plt.figure(figsize=(10,5))  # setting the figure size\n",
    "ax = sns.barplot(x='landing_page', y='time_spent_on_the_page', data=abtest, ci=False)  # barplot"
   ]
  },
  {
   "cell_type": "markdown",
   "metadata": {},
   "source": [
    "**_Observation_**\n",
    "\n",
    "* Visitors spent more time on the new landing page than the old landing page."
   ]
  },
  {
   "cell_type": "markdown",
   "metadata": {},
   "source": [
    "&nbsp;"
   ]
  },
  {
   "cell_type": "markdown",
   "metadata": {},
   "source": [
    "### Is the conversion rate for the new page greater than the conversion rate for the old page? ###"
   ]
  },
  {
   "cell_type": "markdown",
   "metadata": {},
   "source": [
    "### Let's write the null and alternative hypothesis"
   ]
  },
  {
   "cell_type": "markdown",
   "metadata": {},
   "source": [
    "Using two proportion z-test, \n",
    "Let $p_1,p_2$ be the proportions of conversion for the old page and new page respectively.\n",
    "\n",
    "Let us test the null hypothesis:\n",
    "\n",
    ">$H_0:p_{old} =p_{new}$\n",
    "\n",
    "against the alternate hypothesis\n",
    "\n",
    ">$H_a:p_{new} > p_{old}$"
   ]
  },
  {
   "cell_type": "markdown",
   "metadata": {},
   "source": [
    "### Let us test whether the Z-test assumptions are satisfied or not\n",
    "\n",
    "*   Binomally distributed population - Yes, the user either converted or did not convert.\n",
    "*   Random sampling from the population - Yes, we are informed that the collected sample is a simple random sample.  \n",
    "*   Can the binomial distribution approximated to normal distribution - Yes. "
   ]
  },
  {
   "cell_type": "code",
   "execution_count": 255,
   "metadata": {},
   "outputs": [],
   "source": [
    "# import the required fuction\n",
    "from statsmodels.stats.proportion import proportions_ztest"
   ]
  },
  {
   "cell_type": "code",
   "execution_count": 287,
   "metadata": {},
   "outputs": [
    {
     "data": {
      "text/html": [
       "<div>\n",
       "<style scoped>\n",
       "    .dataframe tbody tr th:only-of-type {\n",
       "        vertical-align: middle;\n",
       "    }\n",
       "\n",
       "    .dataframe tbody tr th {\n",
       "        vertical-align: top;\n",
       "    }\n",
       "\n",
       "    .dataframe thead th {\n",
       "        text-align: right;\n",
       "    }\n",
       "</style>\n",
       "<table border=\"1\" class=\"dataframe\">\n",
       "  <thead>\n",
       "    <tr style=\"text-align: right;\">\n",
       "      <th></th>\n",
       "      <th>converted</th>\n",
       "      <th>total</th>\n",
       "      <th>rate</th>\n",
       "    </tr>\n",
       "    <tr>\n",
       "      <th>group</th>\n",
       "      <th></th>\n",
       "      <th></th>\n",
       "      <th></th>\n",
       "    </tr>\n",
       "  </thead>\n",
       "  <tbody>\n",
       "    <tr>\n",
       "      <th>control</th>\n",
       "      <td>23</td>\n",
       "      <td>50</td>\n",
       "      <td>0.46</td>\n",
       "    </tr>\n",
       "    <tr>\n",
       "      <th>treatment</th>\n",
       "      <td>32</td>\n",
       "      <td>50</td>\n",
       "      <td>0.64</td>\n",
       "    </tr>\n",
       "  </tbody>\n",
       "</table>\n",
       "</div>"
      ],
      "text/plain": [
       "           converted  total  rate\n",
       "group                            \n",
       "control           23     50  0.46\n",
       "treatment         32     50  0.64"
      ]
     },
     "execution_count": 287,
     "metadata": {},
     "output_type": "execute_result"
    }
   ],
   "source": [
    "#finding the conversion rate\n",
    "abtestsum = abtest.pivot_table(values='converted', index='group', aggfunc=np.sum)\n",
    "# add additional columns to the pivot table\n",
    "abtestsum['total'] = abtest.pivot_table(values='converted', index='group', aggfunc=lambda x: len(x))\n",
    "abtestsum['rate'] = abtest.pivot_table(values='converted', index='group')\n",
    "abtestsum"
   ]
  },
  {
   "cell_type": "code",
   "execution_count": 314,
   "metadata": {},
   "outputs": [
    {
     "name": "stdout",
     "output_type": "stream",
     "text": [
      "The p-value is  0.035\n",
      "Reject the null hypothesis - we can conclude that the conversion rate for the new page is greater than the old page.\n"
     ]
    }
   ],
   "source": [
    "significance = 0.05\n",
    "\n",
    "# set conversions of visitors\n",
    "visitor_conversions = np.array([32, 23])\n",
    "\n",
    "# set the sample sizes\n",
    "nobs = np.array([50, 50])\n",
    "\n",
    "# find the p-value\n",
    "test_stat, p_value = proportions_ztest(visitor_conversions, nobs, alternative = 'larger')\n",
    "print('The p-value is ' + ' %0.3f' % (p_value))\n",
    "\n",
    "if p_value > significance:\n",
    "    print (\"We do not have enough statistitcal evidence to reject the null hypothesis\")\n",
    "else:\n",
    "    print (\"Reject the null hypothesis - we can conclude that the conversion rate for the new page is greater than the old page.\")\n"
   ]
  },
  {
   "cell_type": "markdown",
   "metadata": {},
   "source": [
    "### since p-value is less than significance(0.05), we can conclude that the conversion rate for the new page is greater than the old page. ###"
   ]
  },
  {
   "cell_type": "markdown",
   "metadata": {},
   "source": [
    "&nbsp;"
   ]
  },
  {
   "cell_type": "markdown",
   "metadata": {},
   "source": [
    "### Does the converted status depend on the preferred language? ###"
   ]
  },
  {
   "cell_type": "markdown",
   "metadata": {},
   "source": [
    "### Let's write the null and alternative hypothesis"
   ]
  },
  {
   "cell_type": "markdown",
   "metadata": {},
   "source": [
    "Let us use Chi-square test for Independence\n",
    "\n",
    "We will test the null hypothesis\n",
    "\n",
    ">$H_0:$ conversion status is independent of preferred language.\n",
    "\n",
    "against the alternate hypothesis\n",
    "\n",
    ">$H_a:$ conversion status depends on preferred language."
   ]
  },
  {
   "cell_type": "markdown",
   "metadata": {},
   "source": [
    "### Justification for using Chi-square test for independence are as follows:\n",
    "\n",
    "* Categorical variables - Yes\n",
    "* Expected value of the number of sample observations in each level of the variable is at least 5 - Yes, the number of observations in each level is greater than 5.\n",
    "* Random sampling from the population - Yes"
   ]
  },
  {
   "cell_type": "markdown",
   "metadata": {},
   "source": [
    "### Let's find the p-value"
   ]
  },
  {
   "cell_type": "code",
   "execution_count": 317,
   "metadata": {},
   "outputs": [
    {
     "data": {
      "text/html": [
       "<div>\n",
       "<style scoped>\n",
       "    .dataframe tbody tr th:only-of-type {\n",
       "        vertical-align: middle;\n",
       "    }\n",
       "\n",
       "    .dataframe tbody tr th {\n",
       "        vertical-align: top;\n",
       "    }\n",
       "\n",
       "    .dataframe thead th {\n",
       "        text-align: right;\n",
       "    }\n",
       "</style>\n",
       "<table border=\"1\" class=\"dataframe\">\n",
       "  <thead>\n",
       "    <tr style=\"text-align: right;\">\n",
       "      <th>language_preferred</th>\n",
       "      <th>English</th>\n",
       "      <th>French</th>\n",
       "      <th>Spanish</th>\n",
       "      <th>All</th>\n",
       "    </tr>\n",
       "    <tr>\n",
       "      <th>converted</th>\n",
       "      <th></th>\n",
       "      <th></th>\n",
       "      <th></th>\n",
       "      <th></th>\n",
       "    </tr>\n",
       "  </thead>\n",
       "  <tbody>\n",
       "    <tr>\n",
       "      <th>0</th>\n",
       "      <td>12</td>\n",
       "      <td>17</td>\n",
       "      <td>16</td>\n",
       "      <td>45</td>\n",
       "    </tr>\n",
       "    <tr>\n",
       "      <th>1</th>\n",
       "      <td>20</td>\n",
       "      <td>17</td>\n",
       "      <td>18</td>\n",
       "      <td>55</td>\n",
       "    </tr>\n",
       "    <tr>\n",
       "      <th>All</th>\n",
       "      <td>32</td>\n",
       "      <td>34</td>\n",
       "      <td>34</td>\n",
       "      <td>100</td>\n",
       "    </tr>\n",
       "  </tbody>\n",
       "</table>\n",
       "</div>"
      ],
      "text/plain": [
       "language_preferred  English  French  Spanish  All\n",
       "converted                                        \n",
       "0                        12      17       16   45\n",
       "1                        20      17       18   55\n",
       "All                      32      34       34  100"
      ]
     },
     "execution_count": 317,
     "metadata": {},
     "output_type": "execute_result"
    }
   ],
   "source": [
    "# first, let us use the 'crosstab' function to create a contingency table\n",
    "chi_test = pd.crosstab(abtest.converted, abtest.language_preferred, margins=True)\n",
    "chi_test"
   ]
  },
  {
   "cell_type": "markdown",
   "metadata": {},
   "source": [
    "### import the required function\n",
    "from scipy.stats import chi2_contingency\n",
    "\n",
    "### find the p-value\n"
   ]
  },
  {
   "cell_type": "code",
   "execution_count": 338,
   "metadata": {},
   "outputs": [
    {
     "name": "stdout",
     "output_type": "stream",
     "text": [
      "The p-value is 0.980249223480077\n"
     ]
    }
   ],
   "source": [
    "chi, p_value, dof, expected = chi2_contingency(chi_test)\n",
    "print('The p-value is', p_value)"
   ]
  },
  {
   "cell_type": "markdown",
   "metadata": {},
   "source": [
    "### Since P-value is greater than the significance of 0.05, we do not have enough statistical evidence to reject the null hypothesis. Thus, the conversion status is independent of language preferred. ###"
   ]
  },
  {
   "cell_type": "markdown",
   "metadata": {},
   "source": [
    "### Let us visualize the crosstab of 'converted' and 'language prefered'"
   ]
  },
  {
   "cell_type": "code",
   "execution_count": 340,
   "metadata": {},
   "outputs": [
    {
     "data": {
      "text/plain": [
       "Text(0.5, 1.0, 'CONVERSION BY PREFERRED LANGUAGE')"
      ]
     },
     "execution_count": 340,
     "metadata": {},
     "output_type": "execute_result"
    },
    {
     "data": {
      "image/png": "[encoded data removed]",
      "text/plain": [
       "<Figure size 432x288 with 1 Axes>"
      ]
     },
     "metadata": {
      "needs_background": "light"
     },
     "output_type": "display_data"
    }
   ],
   "source": [
    "chi_test.plot(kind='bar') #barplot\n",
    "plt.title(\"CONVERSION BY PREFERRED LANGUAGE\")"
   ]
  },
  {
   "cell_type": "markdown",
   "metadata": {},
   "source": [
    "### Observation ###\n",
    "\n",
    "* this confirms the result of the chitest. The conversion status does not appear to be dependent on preferred language. "
   ]
  },
  {
   "cell_type": "markdown",
   "metadata": {},
   "source": [
    "&nbsp;"
   ]
  },
  {
   "cell_type": "markdown",
   "metadata": {},
   "source": [
    "### Is the mean time spent on the new page same for the different language users?"
   ]
  },
  {
   "cell_type": "markdown",
   "metadata": {},
   "source": [
    "### Let's write the null and alternative hypothesis\n",
    "Usint one-way ANOVA test\n",
    "\n",
    "Let $\\mu_1, \\mu_2, \\mu_3$ be the means of time spent by English, French and Spanish users on the new page respectively.\n",
    "\n",
    "We will test the null hypothesis\n",
    "\n",
    ">$H_0: \\mu_1 = \\mu_2 = \\mu_3$\n",
    "\n",
    "against the alternative hypothesis\n",
    "\n",
    ">$H_a: $ At least one mean time (spent on the new page) of one language is different from the others."
   ]
  },
  {
   "cell_type": "code",
   "execution_count": 303,
   "metadata": {},
   "outputs": [],
   "source": [
    "#selecting dataframe of the new page visitosrs only\n",
    "new_page = abtest.loc[abtest['landing_page']== 'new']\n"
   ]
  },
  {
   "cell_type": "code",
   "execution_count": 304,
   "metadata": {},
   "outputs": [
    {
     "name": "stdout",
     "output_type": "stream",
     "text": [
      "language_preferred\n",
      "English    6.663750\n",
      "French     6.196471\n",
      "Spanish    5.835294\n",
      "Name: time_spent_on_the_page, dtype: float64\n"
     ]
    },
    {
     "data": {
      "image/png": "[encoded data removed]",
      "text/plain": [
       "<Figure size 432x432 with 1 Axes>"
      ]
     },
     "metadata": {
      "needs_background": "light"
     },
     "output_type": "display_data"
    }
   ],
   "source": [
    "# mean of time spent by different language users\n",
    "print(new_page.groupby(\"language_preferred\")[\"time_spent_on_the_page\"].mean())\n",
    "\n",
    "# draw the boxplot for visualization \n",
    "fig, ax = plt.subplots(figsize = (6,6))\n",
    "a = sns.boxplot(x= \"language_preferred\", y = 'time_spent_on_the_page' , data = abtest, hue = 'language_preferred')\n",
    "a.set_title(\"language preferred and mean time\", fontsize=15)\n",
    "plt.show()"
   ]
  },
  {
   "cell_type": "markdown",
   "metadata": {},
   "source": [
    "Now, the normality and equality of variance assumptions need to be checked. \n",
    "\n",
    "* For testing of normality, Shapiro-Wilk’s test is applied to the response variable.\n",
    "\n",
    "* For equality of varaince, Levene test is applied to the response variable."
   ]
  },
  {
   "cell_type": "markdown",
   "metadata": {},
   "source": [
    "### Shapiro-Wilk’s test\n",
    "\n",
    "We will test the null hypothesis\n",
    "\n",
    ">$H_0:$ Time spent on new page follows a normal distribution \n",
    "\n",
    "against the alternative hypothesis\n",
    "\n",
    ">$H_a:$ Time spent on the new page does not follow a normal distribution"
   ]
  },
  {
   "cell_type": "code",
   "execution_count": 306,
   "metadata": {},
   "outputs": [
    {
     "name": "stdout",
     "output_type": "stream",
     "text": [
      "The p-value is 0.8040016293525696\n"
     ]
    }
   ],
   "source": [
    "# Assumption 1: Normality\n",
    "# import the required function\n",
    "from scipy import stats\n",
    "\n",
    "# find the p-value\n",
    "w, p_value = stats.shapiro(new_page['time_spent_on_the_page']) \n",
    "print('The p-value is', p_value)"
   ]
  },
  {
   "cell_type": "markdown",
   "metadata": {},
   "source": [
    "Since p-value of the test is very large, we fail to reject the null hypothesis that the response follows the normal distribution."
   ]
  },
  {
   "cell_type": "markdown",
   "metadata": {},
   "source": [
    "### Levene’s test\n",
    "\n",
    "We will test the null hypothesis\n",
    "\n",
    ">$H_0$: All the population variances are equal\n",
    "\n",
    "against the alternative hypothesis\n",
    "\n",
    ">$H_a$: At least one variance is different from the rest"
   ]
  },
  {
   "cell_type": "code",
   "execution_count": 307,
   "metadata": {},
   "outputs": [
    {
     "name": "stdout",
     "output_type": "stream",
     "text": [
      "The p-value is 0.46711357711340173\n"
     ]
    }
   ],
   "source": [
    "#Assumption 2: Homogeneity of Variance\n",
    "#import the required function\n",
    "from scipy.stats import levene\n",
    "statistic, p_value = levene( new_page['time_spent_on_the_page'][new_page['language_preferred']==\"English\"], \n",
    "                                   new_page['time_spent_on_the_page'][new_page['language_preferred']==\"French\"], \n",
    "                                   new_page['time_spent_on_the_page'][new_page['language_preferred']==\"Spanish\"])\n",
    "# find the p-value\n",
    "print('The p-value is', p_value)"
   ]
  },
  {
   "cell_type": "markdown",
   "metadata": {},
   "source": [
    "Since the p-value is large, we fail to reject the null hypothesis of homogeneity of variances."
   ]
  },
  {
   "cell_type": "markdown",
   "metadata": {},
   "source": [
    "### Let's test whether the assumptions are satisfied or not\n",
    "\n",
    "* The populations are normally distributed - Yes, the normality assumption is verified using the Shapiro-Wilk’s test.\n",
    "* Samples are independent simple random samples - Yes, we are informed that the collected sample is a simple random sample.\n",
    "* Population variances are equal - Yes, the homogeneity of variance assumption is verified using the Levene's test."
   ]
  },
  {
   "cell_type": "code",
   "execution_count": 313,
   "metadata": {},
   "outputs": [
    {
     "name": "stdout",
     "output_type": "stream",
     "text": [
      "The p-value is 0.43204138694325955\n",
      "We do not have enough statistitcal evidence to reject the null hypothesis. Thus, we can conclude that the mean timespent on the new page by English, French and spanish users is not different\n"
     ]
    }
   ],
   "source": [
    "#import the required function\n",
    "from scipy.stats import f_oneway\n",
    "\n",
    "significance = 0.05\n",
    "\n",
    "# perform one-way anova test\n",
    "test_stat, p_value = f_oneway(new_page.loc[new_page['language_preferred'] == 'English', 'time_spent_on_the_page'],\n",
    "                              new_page.loc[new_page['language_preferred'] == 'French', 'time_spent_on_the_page'],\n",
    "                              new_page.loc[new_page['language_preferred'] == 'Spanish', 'time_spent_on_the_page'])\n",
    "print('The p-value is ' + str(p_value))\n",
    "\n",
    "if p_value > significance:\n",
    "    print (\"We do not have enough statistitcal evidence to reject the null hypothesis. Thus, we can conclude that the mean time\" \n",
    "           \"spent on the new page by English, French and spanish users is not different\")\n",
    "else:\n",
    "    print (\"Reject the null hypothesis \")"
   ]
  },
  {
   "cell_type": "markdown",
   "metadata": {},
   "source": [
    "### Since P-value is more than significance (0.05),we do not have enough statistitcal evidence to reject the null hypothesis. Thus, we can conclude that the mean time spent on the new page by English, French and spanish users is not different. ### "
   ]
  },
  {
   "cell_type": "markdown",
   "metadata": {},
   "source": [
    "## Conclusion ##\n",
    "\n",
    "* Users spent more time on the new landing page than the old landing page. This could be    potentially due to the volume of content or the kind of content displayed on the landing page.\n",
    "\n",
    "* It is observed from the data that more time spent on the page increased the likelihood of subscription. \n",
    "\n",
    "* The conversion rate of the treatment group or of the new landing page is higher than the old page. \n",
    "\n",
    "* Preferred language is independent of time spent on the page and conversion rate.\n",
    "\n",
    "* It is recommended that the new landing page replace the old one; or future landing pages should have similar content as the new landing page as it leads to more time spent on the page and consequently more subscriptions. \n"
   ]
  }
 ],
 "metadata": {
  "kernelspec": {
   "display_name": "Python 3",
   "language": "python",
   "name": "python3"
  },
  "language_info": {
   "codemirror_mode": {
    "name": "ipython",
    "version": 3
   },
   "file_extension": ".py",
   "mimetype": "text/x-python",
   "name": "python",
   "nbconvert_exporter": "python",
   "pygments_lexer": "ipython3",
   "version": "3.8.5"
  }
 },
 "nbformat": 4,
 "nbformat_minor": 4
}
